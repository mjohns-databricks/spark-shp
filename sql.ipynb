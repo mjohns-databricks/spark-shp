{
 "cells": [
  {
   "cell_type": "code",
   "execution_count": null,
   "metadata": {},
   "outputs": [],
   "source": [
    "_ = sql(\"DROP TABLE IF EXISTS RAIL\")\n",
    "_ = sql(\"\"\"\n",
    "CREATE TABLE RAIL\n",
    "USING com.esri.spark.shp\n",
    "OPTIONS (path \"/Users/mraad/SourceShape_NumberFormatException/data/North_American_Rail_Lines_Fails\", format \"WKT\")\n",
    "\"\"\")\n",
    "# columns \"atext,adate\""
   ]
  },
  {
   "cell_type": "code",
   "execution_count": null,
   "metadata": {},
   "outputs": [],
   "source": [
    "sql(\"DESCRIBE RAIL\").show(n=256,truncate=False)"
   ]
  },
  {
   "cell_type": "code",
   "execution_count": null,
   "metadata": {},
   "outputs": [],
   "source": [
    "sql(\"select count(*) num_nulls from RAIL where tracks is null\").show(truncate=False)"
   ]
  }
 ],
 "metadata": {
  "kernelspec": {
   "display_name": "Python 3",
   "language": "python",
   "name": "python3"
  },
  "language_info": {
   "codemirror_mode": {
    "name": "ipython",
    "version": 3
   },
   "file_extension": ".py",
   "mimetype": "text/x-python",
   "name": "python",
   "nbconvert_exporter": "python",
   "pygments_lexer": "ipython3",
   "version": "3.7.3"
  },
  "pycharm": {
   "stem_cell": {
    "cell_type": "raw",
    "metadata": {
     "collapsed": false
    },
    "source": []
   }
  }
 },
 "nbformat": 4,
 "nbformat_minor": 4
}
