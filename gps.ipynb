{
 "cells": [
  {
   "cell_type": "code",
   "execution_count": 21,
   "metadata": {},
   "outputs": [],
   "source": [
    "_ = sql(\"DROP TABLE IF EXISTS GPS\")\n",
    "_ = sql(\"\"\"\n",
    "CREATE TABLE gps\n",
    "USING com.esri.spark.shp\n",
    "OPTIONS (path \"data/gps.shp\", format \"WKT\", columns \"atext,adate\")\n",
    "\"\"\")"
   ]
  },
  {
   "cell_type": "code",
   "execution_count": 22,
   "metadata": {},
   "outputs": [
    {
     "name": "stdout",
     "output_type": "stream",
     "text": [
      "+--------+---------+-------+\n",
      "|col_name|data_type|comment|\n",
      "+--------+---------+-------+\n",
      "|   shape|   string|   null|\n",
      "|   atext|   string|   null|\n",
      "|   adate|     date|   null|\n",
      "+--------+---------+-------+\n",
      "\n"
     ]
    }
   ],
   "source": [
    "sql(\"DESCRIBE gps\").show()"
   ]
  },
  {
   "cell_type": "code",
   "execution_count": 23,
   "metadata": {},
   "outputs": [
    {
     "name": "stdout",
     "output_type": "stream",
     "text": [
      "+------------------------+-----+----------+\n",
      "|shape                   |atext|adate     |\n",
      "+------------------------+-----+----------+\n",
      "|POINT (-76.9245 38.9719)|N4   |2000-01-14|\n",
      "|POINT (-77.0811 38.8353)|N8   |2000-01-19|\n",
      "|POINT (-76.9868 38.8576)|N3   |2000-01-24|\n",
      "|POINT (-77.0814 38.9303)|N4   |2000-01-11|\n",
      "|POINT (-77.0944 38.8447)|N1   |2000-01-23|\n",
      "|POINT (-77.0945 38.8738)|N5   |2000-01-17|\n",
      "|POINT (-77.0558 38.9676)|N8   |2000-01-30|\n",
      "|POINT (-76.9833 38.9171)|N9   |2000-01-22|\n",
      "|POINT (-77.0115 38.9125)|N8   |2000-01-04|\n",
      "|POINT (-77.0711 38.91)  |N5   |2000-01-30|\n",
      "|POINT (-77.0904 38.8185)|N2   |2000-01-25|\n",
      "|POINT (-76.9284 38.97)  |N2   |2000-01-13|\n",
      "|POINT (-77.1178 38.9256)|N2   |2000-01-19|\n",
      "|POINT (-77.0548 38.8122)|N2   |2000-01-26|\n",
      "|POINT (-76.976 38.8575) |N3   |2000-01-30|\n",
      "|POINT (-76.9903 38.9039)|N7   |2000-01-22|\n",
      "|POINT (-77.1186 38.977) |N8   |2000-01-04|\n",
      "|POINT (-76.9989 38.9461)|N1   |2000-01-24|\n",
      "|POINT (-76.9735 38.8364)|N4   |2000-01-25|\n",
      "|POINT (-76.9096 38.8724)|N2   |2000-01-23|\n",
      "+------------------------+-----+----------+\n",
      "only showing top 20 rows\n",
      "\n"
     ]
    }
   ],
   "source": [
    "sql(\"select shape,atext,adate from gps\").show(truncate=False)"
   ]
  },
  {
   "cell_type": "code",
   "execution_count": 24,
   "metadata": {},
   "outputs": [],
   "source": [
    "df = spark.read \\\n",
    "    .format(\"com.esri.spark.shp\") \\\n",
    "    .options(path=\"data/gps.shp\", columns=\"atext,adate\", format=\"GEOJSON\") \\\n",
    "    .load() \\\n",
    "    .cache()"
   ]
  },
  {
   "cell_type": "code",
   "execution_count": 25,
   "metadata": {},
   "outputs": [
    {
     "name": "stdout",
     "output_type": "stream",
     "text": [
      "root\n",
      " |-- shape: string (nullable = true)\n",
      " |-- atext: string (nullable = true)\n",
      " |-- adate: date (nullable = true)\n",
      "\n"
     ]
    }
   ],
   "source": [
    "df.printSchema()"
   ]
  },
  {
   "cell_type": "code",
   "execution_count": 26,
   "metadata": {},
   "outputs": [],
   "source": [
    "df.createOrReplaceTempView(\"T0\")"
   ]
  },
  {
   "cell_type": "code",
   "execution_count": 27,
   "metadata": {},
   "outputs": [
    {
     "data": {
      "text/plain": [
       "100000"
      ]
     },
     "execution_count": 27,
     "metadata": {},
     "output_type": "execute_result"
    }
   ],
   "source": [
    "df.count()"
   ]
  },
  {
   "cell_type": "code",
   "execution_count": 28,
   "metadata": {
    "pycharm": {
     "name": "#%%\n"
    }
   },
   "outputs": [
    {
     "name": "stdout",
     "output_type": "stream",
     "text": [
      "+-----+----------+-------------------------------------------------+\n",
      "|atext|adate     |GeoJSON                                          |\n",
      "+-----+----------+-------------------------------------------------+\n",
      "|N4   |2000-01-14|{\"type\":\"Point\",\"coordinates\":[-76.9245,38.9719]}|\n",
      "|N8   |2000-01-19|{\"type\":\"Point\",\"coordinates\":[-77.0811,38.8353]}|\n",
      "|N3   |2000-01-24|{\"type\":\"Point\",\"coordinates\":[-76.9868,38.8576]}|\n",
      "|N4   |2000-01-11|{\"type\":\"Point\",\"coordinates\":[-77.0814,38.9303]}|\n",
      "|N1   |2000-01-23|{\"type\":\"Point\",\"coordinates\":[-77.0944,38.8447]}|\n",
      "|N5   |2000-01-17|{\"type\":\"Point\",\"coordinates\":[-77.0945,38.8738]}|\n",
      "|N8   |2000-01-30|{\"type\":\"Point\",\"coordinates\":[-77.0558,38.9676]}|\n",
      "|N9   |2000-01-22|{\"type\":\"Point\",\"coordinates\":[-76.9833,38.9171]}|\n",
      "|N8   |2000-01-04|{\"type\":\"Point\",\"coordinates\":[-77.0115,38.9125]}|\n",
      "|N5   |2000-01-30|{\"type\":\"Point\",\"coordinates\":[-77.0711,38.91]}  |\n",
      "|N2   |2000-01-25|{\"type\":\"Point\",\"coordinates\":[-77.0904,38.8185]}|\n",
      "|N2   |2000-01-13|{\"type\":\"Point\",\"coordinates\":[-76.9284,38.97]}  |\n",
      "|N2   |2000-01-19|{\"type\":\"Point\",\"coordinates\":[-77.1178,38.9256]}|\n",
      "|N2   |2000-01-26|{\"type\":\"Point\",\"coordinates\":[-77.0548,38.8122]}|\n",
      "|N3   |2000-01-30|{\"type\":\"Point\",\"coordinates\":[-76.976,38.8575]} |\n",
      "|N7   |2000-01-22|{\"type\":\"Point\",\"coordinates\":[-76.9903,38.9039]}|\n",
      "|N8   |2000-01-04|{\"type\":\"Point\",\"coordinates\":[-77.1186,38.977]} |\n",
      "|N1   |2000-01-24|{\"type\":\"Point\",\"coordinates\":[-76.9989,38.9461]}|\n",
      "|N4   |2000-01-25|{\"type\":\"Point\",\"coordinates\":[-76.9735,38.8364]}|\n",
      "|N2   |2000-01-23|{\"type\":\"Point\",\"coordinates\":[-76.9096,38.8724]}|\n",
      "+-----+----------+-------------------------------------------------+\n",
      "only showing top 20 rows\n",
      "\n"
     ]
    }
   ],
   "source": [
    "sql(\"select atext,adate,shape GeoJSON from T0\").show(truncate=False)"
   ]
  },
  {
   "cell_type": "code",
   "execution_count": null,
   "metadata": {},
   "outputs": [],
   "source": []
  }
 ],
 "metadata": {
  "kernelspec": {
   "display_name": "Python 3",
   "language": "python",
   "name": "python3"
  },
  "language_info": {
   "codemirror_mode": {
    "name": "ipython",
    "version": 3
   },
   "file_extension": ".py",
   "mimetype": "text/x-python",
   "name": "python",
   "nbconvert_exporter": "python",
   "pygments_lexer": "ipython3",
   "version": "3.7.3"
  },
  "pycharm": {
   "stem_cell": {
    "cell_type": "raw",
    "metadata": {
     "collapsed": false
    },
    "source": []
   }
  }
 },
 "nbformat": 4,
 "nbformat_minor": 4
}
