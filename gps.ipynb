{
 "cells": [
  {
   "cell_type": "code",
   "execution_count": 33,
   "metadata": {},
   "outputs": [],
   "source": [
    "import shapely\n",
    "from shapely.wkb import loads\n",
    "from shapely.strtree import STRtree"
   ]
  },
  {
   "cell_type": "code",
   "execution_count": 15,
   "metadata": {},
   "outputs": [],
   "source": [
    "path = \"/Users/mraad/DCOCTO/Metro_Station_Entrances_in_DC/Metro_Station_Entrances_in_DC.shp\"\n",
    "metro = spark.read \\\n",
    "    .format(\"com.esri.spark.shp\") \\\n",
    "    .options(path=path, format=\"WKB\", columns=\"objectid\") \\\n",
    "    .load() \\\n",
    "    .cache()"
   ]
  },
  {
   "cell_type": "code",
   "execution_count": 16,
   "metadata": {},
   "outputs": [
    {
     "name": "stdout",
     "output_type": "stream",
     "text": [
      "root\n",
      " |-- shape: binary (nullable = true)\n",
      " |-- objectid: long (nullable = true)\n",
      "\n"
     ]
    }
   ],
   "source": [
    "metro.printSchema()"
   ]
  },
  {
   "cell_type": "code",
   "execution_count": 35,
   "metadata": {},
   "outputs": [],
   "source": [
    "tree = STRtree([loads(bytes(r[0])) for r in metro.collect()])"
   ]
  },
  {
   "cell_type": "code",
   "execution_count": 6,
   "metadata": {},
   "outputs": [],
   "source": [
    "df = spark.read \\\n",
    "    .format(\"com.esri.spark.shp\") \\\n",
    "    .options(path=\"data/gps.shp\", columns=\"atext,adate\", format=\"WKT\") \\\n",
    "    .load() \\\n",
    "    .cache()"
   ]
  },
  {
   "cell_type": "code",
   "execution_count": 7,
   "metadata": {},
   "outputs": [
    {
     "name": "stdout",
     "output_type": "stream",
     "text": [
      "root\n",
      " |-- shape: string (nullable = true)\n",
      " |-- atext: string (nullable = true)\n",
      " |-- adate: date (nullable = true)\n",
      "\n"
     ]
    }
   ],
   "source": [
    "df.printSchema()"
   ]
  },
  {
   "cell_type": "code",
   "execution_count": 8,
   "metadata": {},
   "outputs": [],
   "source": [
    "df.createOrReplaceTempView(\"T0\")"
   ]
  },
  {
   "cell_type": "code",
   "execution_count": 9,
   "metadata": {},
   "outputs": [
    {
     "data": {
      "text/plain": [
       "100000"
      ]
     },
     "execution_count": 9,
     "metadata": {},
     "output_type": "execute_result"
    }
   ],
   "source": [
    "df.count()"
   ]
  },
  {
   "cell_type": "code",
   "execution_count": 10,
   "metadata": {
    "pycharm": {
     "name": "#%%\n"
    }
   },
   "outputs": [
    {
     "name": "stdout",
     "output_type": "stream",
     "text": [
      "+-----+----------+------------------------+\n",
      "|atext|adate     |GeoJSON                 |\n",
      "+-----+----------+------------------------+\n",
      "|N4   |2000-01-14|POINT (-76.9245 38.9719)|\n",
      "|N8   |2000-01-19|POINT (-77.0811 38.8353)|\n",
      "|N3   |2000-01-24|POINT (-76.9868 38.8576)|\n",
      "|N4   |2000-01-11|POINT (-77.0814 38.9303)|\n",
      "|N1   |2000-01-23|POINT (-77.0944 38.8447)|\n",
      "|N5   |2000-01-17|POINT (-77.0945 38.8738)|\n",
      "|N8   |2000-01-30|POINT (-77.0558 38.9676)|\n",
      "|N9   |2000-01-22|POINT (-76.9833 38.9171)|\n",
      "|N8   |2000-01-04|POINT (-77.0115 38.9125)|\n",
      "|N5   |2000-01-30|POINT (-77.0711 38.91)  |\n",
      "|N2   |2000-01-25|POINT (-77.0904 38.8185)|\n",
      "|N2   |2000-01-13|POINT (-76.9284 38.97)  |\n",
      "|N2   |2000-01-19|POINT (-77.1178 38.9256)|\n",
      "|N2   |2000-01-26|POINT (-77.0548 38.8122)|\n",
      "|N3   |2000-01-30|POINT (-76.976 38.8575) |\n",
      "|N7   |2000-01-22|POINT (-76.9903 38.9039)|\n",
      "|N8   |2000-01-04|POINT (-77.1186 38.977) |\n",
      "|N1   |2000-01-24|POINT (-76.9989 38.9461)|\n",
      "|N4   |2000-01-25|POINT (-76.9735 38.8364)|\n",
      "|N2   |2000-01-23|POINT (-76.9096 38.8724)|\n",
      "+-----+----------+------------------------+\n",
      "only showing top 20 rows\n",
      "\n"
     ]
    }
   ],
   "source": [
    "sql(\"select atext,adate,shape GeoJSON from T0\").show(truncate=False)"
   ]
  }
 ],
 "metadata": {
  "kernelspec": {
   "display_name": "Python 3",
   "language": "python",
   "name": "python3"
  },
  "language_info": {
   "codemirror_mode": {
    "name": "ipython",
    "version": 3
   },
   "file_extension": ".py",
   "mimetype": "text/x-python",
   "name": "python",
   "nbconvert_exporter": "python",
   "pygments_lexer": "ipython3",
   "version": "3.6.7"
  },
  "pycharm": {
   "stem_cell": {
    "cell_type": "raw",
    "metadata": {
     "collapsed": false
    },
    "source": []
   }
  }
 },
 "nbformat": 4,
 "nbformat_minor": 4
}
