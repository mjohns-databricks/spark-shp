{
 "cells": [
  {
   "cell_type": "code",
   "execution_count": 19,
   "metadata": {},
   "outputs": [],
   "source": [
    "df = spark.read \\\n",
    "    .format(\"com.esri.shp\") \\\n",
    "    .options(path=\"/Users/mraad/DCOCTO/Metro_Station_Entrances_in_DC/Metro_Station_Entrances_in_DC.shp\") \\\n",
    "    .load()"
   ]
  },
  {
   "cell_type": "code",
   "execution_count": 20,
   "metadata": {},
   "outputs": [
    {
     "name": "stdout",
     "output_type": "stream",
     "text": [
      "root\n",
      " |-- shape: binary (nullable = true)\n",
      " |-- objectid: long (nullable = true)\n",
      " |-- gis_id: string (nullable = true)\n",
      " |-- name: string (nullable = true)\n",
      " |-- web_url: string (nullable = true)\n",
      " |-- exit_to_st: string (nullable = true)\n",
      " |-- featurecod: long (nullable = true)\n",
      " |-- descriptio: string (nullable = true)\n",
      " |-- captureyea: string (nullable = true)\n",
      " |-- line: string (nullable = true)\n",
      " |-- address_id: long (nullable = true)\n",
      " |-- address: string (nullable = true)\n",
      "\n"
     ]
    }
   ],
   "source": [
    "df.printSchema()"
   ]
  },
  {
   "cell_type": "code",
   "execution_count": 21,
   "metadata": {},
   "outputs": [],
   "source": [
    "df.createOrReplaceTempView(\"T0\")"
   ]
  },
  {
   "cell_type": "code",
   "execution_count": 23,
   "metadata": {},
   "outputs": [
    {
     "name": "stdout",
     "output_type": "stream",
     "text": [
      "+--------------------+-----------------------------------------------+\n",
      "|line                |address                                        |\n",
      "+--------------------+-----------------------------------------------+\n",
      "|red                 |1351 19TH ST NW, WASHINGTON, DC 20036          |\n",
      "|blue, silver        |4500 BENNING ROAD NE, WASHINGTON, DC 20019     |\n",
      "|red                 |801 MICHIGAN AVENUE NE, WASHINGTON, DC 20017   |\n",
      "|red                 |801 MICHIGAN AVENUE NE, WASHINGTON, DC 20017   |\n",
      "|red, green, yellow  |550 GALLOWAY STREET NE, WASHINGTON, DC 20011   |\n",
      "|green               |1101 HOWARD ROAD SE, WASHINGTON, DC 20020      |\n",
      "|green               |1101 HOWARD ROAD SE, WASHINGTON, DC 20020      |\n",
      "|green               |1290 ALABAMA AVENUE SE, WASHINGTON, DC 20020   |\n",
      "|green               |1290 ALABAMA AVENUE SE, WASHINGTON, DC 20020   |\n",
      "|blue, silver        |4500 BENNING ROAD NE, WASHINGTON, DC 20019     |\n",
      "|orange              |4000 MINNESOTA AVENUE NE, WASHINGTON, DC 20019 |\n",
      "|orange              |4000 MINNESOTA AVENUE NE, WASHINGTON, DC 20019 |\n",
      "|green,yellow        |3030 14TH STREET NW, WASHINGTON, DC 20009      |\n",
      "|green               |1290 ALABAMA AVENUE SE, WASHINGTON, DC 20020   |\n",
      "|orange              |4720 MINNESOTA AVENUE NE, WASHINGTON, DC 20019 |\n",
      "|blue, orange, silver|401 3RD STREET SW, WASHINGTON, DC 20024        |\n",
      "|orange              |4000 MINNESOTA AVENUE NE, WASHINGTON, DC 20019 |\n",
      "|green               |1155 NEW JERSEY AVENUE SE, WASHINGTON, DC 20003|\n",
      "|green,yellow        |1801 7TH ST NW, WASHINGTON, DC 20001           |\n",
      "|green,yellow        |1240 U STREET NW, WASHINGTON, DC 20009         |\n",
      "+--------------------+-----------------------------------------------+\n",
      "only showing top 20 rows\n",
      "\n"
     ]
    }
   ],
   "source": [
    "sql(\"select line,address from T0\").show(truncate=False)"
   ]
  }
 ],
 "metadata": {
  "kernelspec": {
   "display_name": "Python 3",
   "language": "python",
   "name": "python3"
  },
  "language_info": {
   "codemirror_mode": {
    "name": "ipython",
    "version": 3
   },
   "file_extension": ".py",
   "mimetype": "text/x-python",
   "name": "python",
   "nbconvert_exporter": "python",
   "pygments_lexer": "ipython3",
   "version": "3.7.3"
  }
 },
 "nbformat": 4,
 "nbformat_minor": 4
}
